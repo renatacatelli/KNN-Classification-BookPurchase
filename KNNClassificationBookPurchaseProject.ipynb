{
 "cells": [
  {
   "attachments": {},
   "cell_type": "markdown",
   "metadata": {},
   "source": [
    "Import Libraries and load dataset"
   ]
  },
  {
   "cell_type": "code",
   "execution_count": 9,
   "metadata": {},
   "outputs": [],
   "source": [
    "import pandas as pd\n",
    "import numpy as np\n",
    "dataset = pd.read_excel(r\"C:\\Users\\renat\\Documents\\Data Science Projects\\Classification\\Book Purchases\\Biblioteca2.xlsx\")"
   ]
  },
  {
   "cell_type": "code",
   "execution_count": 10,
   "metadata": {},
   "outputs": [
    {
     "data": {
      "text/html": [
       "<div>\n",
       "<style scoped>\n",
       "    .dataframe tbody tr th:only-of-type {\n",
       "        vertical-align: middle;\n",
       "    }\n",
       "\n",
       "    .dataframe tbody tr th {\n",
       "        vertical-align: top;\n",
       "    }\n",
       "\n",
       "    .dataframe thead th {\n",
       "        text-align: right;\n",
       "    }\n",
       "</style>\n",
       "<table border=\"1\" class=\"dataframe\">\n",
       "  <thead>\n",
       "    <tr style=\"text-align: right;\">\n",
       "      <th></th>\n",
       "      <th>Titulo</th>\n",
       "      <th>Autor</th>\n",
       "      <th>Género</th>\n",
       "      <th>Precio</th>\n",
       "      <th>AñoPublicado</th>\n",
       "      <th>Paginas</th>\n",
       "      <th>Estado</th>\n",
       "    </tr>\n",
       "  </thead>\n",
       "  <tbody>\n",
       "    <tr>\n",
       "      <th>0</th>\n",
       "      <td>A monster\\ncalls</td>\n",
       "      <td>Patrick Ness</td>\n",
       "      <td>Fantasy</td>\n",
       "      <td>2543.00</td>\n",
       "      <td>2011</td>\n",
       "      <td>224</td>\n",
       "      <td>Leido</td>\n",
       "    </tr>\n",
       "    <tr>\n",
       "      <th>1</th>\n",
       "      <td>Lord of the\\nflies</td>\n",
       "      <td>William \\nGolding</td>\n",
       "      <td>Fiction</td>\n",
       "      <td>1800.54</td>\n",
       "      <td>1954</td>\n",
       "      <td>272</td>\n",
       "      <td>Comprado</td>\n",
       "    </tr>\n",
       "    <tr>\n",
       "      <th>2</th>\n",
       "      <td>How to stop\\ntime</td>\n",
       "      <td>Matt Haigh</td>\n",
       "      <td>Fiction</td>\n",
       "      <td>2400.00</td>\n",
       "      <td>2017</td>\n",
       "      <td>352</td>\n",
       "      <td>Comprado</td>\n",
       "    </tr>\n",
       "    <tr>\n",
       "      <th>3</th>\n",
       "      <td>Reasons to\\nstay alive</td>\n",
       "      <td>Matt Haigh</td>\n",
       "      <td>Autobiography</td>\n",
       "      <td>1333.00</td>\n",
       "      <td>2015</td>\n",
       "      <td>272</td>\n",
       "      <td>Leido</td>\n",
       "    </tr>\n",
       "    <tr>\n",
       "      <th>4</th>\n",
       "      <td>Atomic \\nHabits</td>\n",
       "      <td>James Clear</td>\n",
       "      <td>Self Help</td>\n",
       "      <td>2777.00</td>\n",
       "      <td>2018</td>\n",
       "      <td>320</td>\n",
       "      <td>Comprado</td>\n",
       "    </tr>\n",
       "  </tbody>\n",
       "</table>\n",
       "</div>"
      ],
      "text/plain": [
       "                   Titulo              Autor         Género   Precio  \\\n",
       "0        A monster\\ncalls       Patrick Ness        Fantasy  2543.00   \n",
       "1      Lord of the\\nflies  William \\nGolding        Fiction  1800.54   \n",
       "2       How to stop\\ntime         Matt Haigh        Fiction  2400.00   \n",
       "3  Reasons to\\nstay alive         Matt Haigh  Autobiography  1333.00   \n",
       "4         Atomic \\nHabits        James Clear      Self Help  2777.00   \n",
       "\n",
       "   AñoPublicado  Paginas    Estado  \n",
       "0          2011      224     Leido  \n",
       "1          1954      272  Comprado  \n",
       "2          2017      352  Comprado  \n",
       "3          2015      272     Leido  \n",
       "4          2018      320  Comprado  "
      ]
     },
     "execution_count": 10,
     "metadata": {},
     "output_type": "execute_result"
    }
   ],
   "source": [
    "dataset.head()"
   ]
  },
  {
   "attachments": {},
   "cell_type": "markdown",
   "metadata": {},
   "source": [
    "Feature Encoding"
   ]
  },
  {
   "cell_type": "code",
   "execution_count": 11,
   "metadata": {},
   "outputs": [],
   "source": [
    "from sklearn.preprocessing import LabelEncoder\n",
    "encoder=LabelEncoder()\n",
    "dataset['titulo'] = encoder.fit_transform(dataset.Titulo.values)\n",
    "dataset['autor'] = encoder.fit_transform(dataset.Autor.values)\n",
    "dataset['género'] = encoder.fit_transform(dataset.Género.values)\n",
    "dataset['estado'] = encoder.fit_transform(dataset.Estado.values)\n",
    "\n",
    "dataset['AñoPublicado'] = dataset['AñoPublicado'].astype(int) # Convertir año publicado a int\n",
    "dataset['Paginas'] = dataset['Paginas'].astype(int)"
   ]
  },
  {
   "cell_type": "code",
   "execution_count": 22,
   "metadata": {},
   "outputs": [
    {
     "name": "stdout",
     "output_type": "stream",
     "text": [
      "Titulo           object\n",
      "Autor            object\n",
      "Género           object\n",
      "Precio          float64\n",
      "AñoPublicado      int32\n",
      "Paginas           int32\n",
      "Estado           object\n",
      "titulo            int32\n",
      "autor             int32\n",
      "género            int32\n",
      "estado            int32\n",
      "dtype: object\n",
      "Index(['Titulo', 'Autor', 'Género', 'Precio', 'AñoPublicado', 'Paginas',\n",
      "       'Estado', 'titulo', 'autor', 'género', 'estado'],\n",
      "      dtype='object')\n",
      "                   Titulo              Autor         Género   Precio  \\\n",
      "0        A monster\\ncalls       Patrick Ness        Fantasy  2543.00   \n",
      "1      Lord of the\\nflies  William \\nGolding        Fiction  1800.54   \n",
      "2       How to stop\\ntime         Matt Haigh        Fiction  2400.00   \n",
      "3  Reasons to\\nstay alive         Matt Haigh  Autobiography  1333.00   \n",
      "4         Atomic \\nHabits        James Clear      Self Help  2777.00   \n",
      "\n",
      "   AñoPublicado  Paginas    Estado  titulo  autor  género  estado  \n",
      "0          2011      224     Leido       0     22       4       1  \n",
      "1          1954      272  Comprado      17     28       5       0  \n",
      "2          2017      352  Comprado      13     18       5       0  \n",
      "3          2015      272     Leido      23     18       1       1  \n",
      "4          2018      320  Comprado       3     11      12       0  \n"
     ]
    }
   ],
   "source": [
    "print(dataset.dtypes)\n",
    "print(dataset.columns)\n",
    "print(dataset.head())"
   ]
  },
  {
   "attachments": {},
   "cell_type": "markdown",
   "metadata": {},
   "source": [
    "For the model to work better with some of the categorical values I had, I have encoded some of them and we can see that for 'Estado', 'Leido' corresponds to 1, 'Comprado' to 0, and 'No Comprado' to 2"
   ]
  },
  {
   "cell_type": "code",
   "execution_count": 13,
   "metadata": {},
   "outputs": [
    {
     "name": "stdout",
     "output_type": "stream",
     "text": [
      "(40, 6)\n",
      "(40,)\n"
     ]
    }
   ],
   "source": [
    "X = dataset[['titulo', 'autor', 'género', 'Paginas', 'AñoPublicado', 'Precio']].to_numpy()\n",
    "y = dataset['estado'].to_numpy()\n",
    "print(X.shape)\n",
    "print(y.shape)"
   ]
  },
  {
   "cell_type": "code",
   "execution_count": 14,
   "metadata": {},
   "outputs": [],
   "source": [
    "from sklearn.model_selection import train_test_split \n",
    "X_train, X_test, y_train, y_test = train_test_split(X, y, test_size=0.2, random_state=21, stratify=y)"
   ]
  },
  {
   "cell_type": "code",
   "execution_count": 15,
   "metadata": {},
   "outputs": [],
   "source": [
    "from sklearn.preprocessing import StandardScaler\n",
    "scaler = StandardScaler()\n",
    "scaler.fit(X_train)\n",
    "X_train = scaler.transform(X_train)\n",
    "X_test = scaler.transform(X_test)"
   ]
  },
  {
   "cell_type": "code",
   "execution_count": 16,
   "metadata": {},
   "outputs": [],
   "source": [
    "from sklearn.neighbors import KNeighborsClassifier\n",
    "classifier = KNeighborsClassifier(n_neighbors=3)\n",
    "classifier.fit(X_train,y_train)\n",
    "y_pred = classifier.predict(X_test)"
   ]
  },
  {
   "cell_type": "code",
   "execution_count": 17,
   "metadata": {},
   "outputs": [
    {
     "name": "stdout",
     "output_type": "stream",
     "text": [
      "              precision    recall  f1-score   support\n",
      "\n",
      "           0       0.40      0.67      0.50         3\n",
      "           1       0.00      0.00      0.00         2\n",
      "           2       0.67      0.67      0.67         3\n",
      "\n",
      "    accuracy                           0.50         8\n",
      "   macro avg       0.36      0.44      0.39         8\n",
      "weighted avg       0.40      0.50      0.44         8\n",
      "\n",
      "[[2 0 1]\n",
      " [2 0 0]\n",
      " [1 0 2]]\n"
     ]
    },
    {
     "name": "stderr",
     "output_type": "stream",
     "text": [
      "c:\\Users\\renat\\AppData\\Local\\Programs\\Python\\Python310\\lib\\site-packages\\sklearn\\metrics\\_classification.py:1344: UndefinedMetricWarning: Precision and F-score are ill-defined and being set to 0.0 in labels with no predicted samples. Use `zero_division` parameter to control this behavior.\n",
      "  _warn_prf(average, modifier, msg_start, len(result))\n",
      "c:\\Users\\renat\\AppData\\Local\\Programs\\Python\\Python310\\lib\\site-packages\\sklearn\\metrics\\_classification.py:1344: UndefinedMetricWarning: Precision and F-score are ill-defined and being set to 0.0 in labels with no predicted samples. Use `zero_division` parameter to control this behavior.\n",
      "  _warn_prf(average, modifier, msg_start, len(result))\n",
      "c:\\Users\\renat\\AppData\\Local\\Programs\\Python\\Python310\\lib\\site-packages\\sklearn\\metrics\\_classification.py:1344: UndefinedMetricWarning: Precision and F-score are ill-defined and being set to 0.0 in labels with no predicted samples. Use `zero_division` parameter to control this behavior.\n",
      "  _warn_prf(average, modifier, msg_start, len(result))\n"
     ]
    }
   ],
   "source": [
    "from sklearn.metrics import classification_report, confusion_matrix\n",
    "print(classification_report(y_test, y_pred))\n",
    "print(confusion_matrix(y_test, y_pred))"
   ]
  }
 ],
 "metadata": {
  "kernelspec": {
   "display_name": "Python 3",
   "language": "python",
   "name": "python3"
  },
  "language_info": {
   "codemirror_mode": {
    "name": "ipython",
    "version": 3
   },
   "file_extension": ".py",
   "mimetype": "text/x-python",
   "name": "python",
   "nbconvert_exporter": "python",
   "pygments_lexer": "ipython3",
   "version": "3.10.4"
  },
  "orig_nbformat": 4,
  "vscode": {
   "interpreter": {
    "hash": "0b10dc9268047a3efe1c7b1e0bf66d44c646a4d64b91b89e87db341333f9721a"
   }
  }
 },
 "nbformat": 4,
 "nbformat_minor": 2
}
